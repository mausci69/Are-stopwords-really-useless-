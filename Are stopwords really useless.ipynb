{
 "cells": [
  {
   "cell_type": "markdown",
   "metadata": {},
   "source": [
    "# Are stopwords really useless?\n",
    "\n",
    "<i>Maurizio Scibilia</i>\n",
    "<br>\n",
    "November 2020"
   ]
  },
  {
   "cell_type": "markdown",
   "metadata": {},
   "source": [
    "Sentiment Analysis is probably one of the simplest applications for NLP (Natural Language Processing). The ability for a computer to get the polarity of a user's comment has beeen, since the beginning, extremely interesting. <em>Moore's law</em> rules unformally that in about two years we will double the number of transistors on a microchip at half the price. This has been valid for a long time, but it's now probably at its end and someone claims that 2022 is goonna be its death's year. Now, in the meantime, something else than computation power is spreading its wings and it's what we refer to as <em>Big Data</em>."
   ]
  },
  {
   "cell_type": "markdown",
   "metadata": {},
   "source": [
    "This huge amount of data that is exponentially growing is the reason of the machine learning's rise, and now of the neural network's rise (deep learning).\n",
    "Let's consider a big company, selling some item, or providing a service, in a world where every customer is somehow brought to publish something about its experience. It can be a new pair of shoes, the brand new song of a teen group, a dinner in that cool fancy new restaurant downtown, the new mobile internet connection of our old provider. In every case, especially where the number of comments grows exponentially, we need an automatic way to translate what is <em>unstructured</em> (human thoughts) in categories that a computer can process. The simplest form is simply getting if the user is expressing a good or a bad mood about its purchase. If we have ten thousand comments about our new service and seven thousand express a positive mood, that's something we could start from."
   ]
  },
  {
   "cell_type": "markdown",
   "metadata": {},
   "source": [
    "<em>Kaggle</em> is probably the most famous data science community and it was founded in 2010. They publish many datasets, hosting plenty of competitions, often with prizes in money. In my analysis, I used a dataset released by <a href=\"https://www.kaggle.com\">Kaggle</a>, whose name is: <a href=\"https://www.kaggle.com/kazanova/sentiment140\">Sentiment140 dataset with 1.6 million tweets</a>.\n",
    "It consists of 1,600,000 tweets, half labeled as positive and half negative."
   ]
  },
  {
   "cell_type": "markdown",
   "metadata": {},
   "source": [
    "From the Naive Bayes classification algorythms to the neural networks used to build modern chatbots, NLP' impact is rising more and more. In this space, I would like to focus on details or issues related to NLP, possibly practicing some techniques and trying to see if we can gain some extra-knowledge we can use."
   ]
  },
  {
   "cell_type": "markdown",
   "metadata": {},
   "source": [
    "## Today's Topic\n",
    "\n",
    "No matter if we use old classification algorithms or modern neural networks, preprocessing is a fundamental first step in our analysis. We could consider it like the part of digesting that is done in our mouths. The usual steps we must perform in preprocessing are:\n",
    "<ol>\n",
    "    <li>Lowercasing</li>\n",
    "    <li>Removing punctuation</li>\n",
    "    <li>Removing stopwords</li>\n",
    "    <li>Stemming/Lemmatizing</li>\n",
    "    <li>Tokenizing the string</li>\n",
    "</ol>"
   ]
  },
  {
   "cell_type": "markdown",
   "metadata": {},
   "source": [
    "An analysis of these steps is out the scope of this analysis. I just want to focus on the step 3 that is somehow a classic in the classic. Stopwords are the words that we strongly believe don't actually bring any meaning to our sentence. One of the steps in the preprocessing of our text is removing these words, in order to reduce the size of our dataset and, doing so, to improve the performances of our algorithm. Looking at some of these stopwords, it seemed to me that they were not completely meaningless, and that they could somehow bring value to our analysis. I decided to perform a double analysis, using LSTM (Long Short Term Memory). In one we'll remove the stopwords and in one we won't. At the end we will check which analysis provided the best results."
   ]
  },
  {
   "cell_type": "markdown",
   "metadata": {},
   "source": [
    "## Importing libraries"
   ]
  },
  {
   "cell_type": "code",
   "execution_count": 1,
   "metadata": {},
   "outputs": [],
   "source": [
    "# libraries - basic\n",
    "import numpy as np\n",
    "import pandas as pd\n",
    "import matplotlib.pyplot as plt"
   ]
  },
  {
   "cell_type": "code",
   "execution_count": 2,
   "metadata": {},
   "outputs": [],
   "source": [
    "# libraries - re\n",
    "import re"
   ]
  },
  {
   "cell_type": "code",
   "execution_count": 3,
   "metadata": {},
   "outputs": [],
   "source": [
    "# libraries - tensorflow\n",
    "import tensorflow as tf"
   ]
  },
  {
   "cell_type": "code",
   "execution_count": 4,
   "metadata": {},
   "outputs": [
    {
     "name": "stderr",
     "output_type": "stream",
     "text": [
      "[nltk_data] Downloading package stopwords to\n",
      "[nltk_data]     /Users/maurizioscibilia/nltk_data...\n",
      "[nltk_data]   Package stopwords is already up-to-date!\n"
     ]
    }
   ],
   "source": [
    "# libraries - nltk\n",
    "import nltk \n",
    "from nltk.stem import SnowballStemmer\n",
    "nltk.download('stopwords')\n",
    "from nltk.corpus import stopwords"
   ]
  },
  {
   "cell_type": "code",
   "execution_count": 5,
   "metadata": {},
   "outputs": [],
   "source": [
    "# libraries - sklearn\n",
    "from sklearn.preprocessing import LabelEncoder\n",
    "from sklearn.model_selection import train_test_split"
   ]
  },
  {
   "cell_type": "markdown",
   "metadata": {},
   "source": [
    "## Dataset preprocessing"
   ]
  },
  {
   "cell_type": "code",
   "execution_count": 6,
   "metadata": {},
   "outputs": [
    {
     "data": {
      "text/html": [
       "<div>\n",
       "<style scoped>\n",
       "    .dataframe tbody tr th:only-of-type {\n",
       "        vertical-align: middle;\n",
       "    }\n",
       "\n",
       "    .dataframe tbody tr th {\n",
       "        vertical-align: top;\n",
       "    }\n",
       "\n",
       "    .dataframe thead th {\n",
       "        text-align: right;\n",
       "    }\n",
       "</style>\n",
       "<table border=\"1\" class=\"dataframe\">\n",
       "  <thead>\n",
       "    <tr style=\"text-align: right;\">\n",
       "      <th></th>\n",
       "      <th>0</th>\n",
       "      <th>1</th>\n",
       "      <th>2</th>\n",
       "      <th>3</th>\n",
       "      <th>4</th>\n",
       "      <th>5</th>\n",
       "    </tr>\n",
       "  </thead>\n",
       "  <tbody>\n",
       "    <tr>\n",
       "      <th>0</th>\n",
       "      <td>0</td>\n",
       "      <td>1467810369</td>\n",
       "      <td>Mon Apr 06 22:19:45 PDT 2009</td>\n",
       "      <td>NO_QUERY</td>\n",
       "      <td>_TheSpecialOne_</td>\n",
       "      <td>@switchfoot http://twitpic.com/2y1zl - Awww, t...</td>\n",
       "    </tr>\n",
       "    <tr>\n",
       "      <th>1</th>\n",
       "      <td>0</td>\n",
       "      <td>1467810672</td>\n",
       "      <td>Mon Apr 06 22:19:49 PDT 2009</td>\n",
       "      <td>NO_QUERY</td>\n",
       "      <td>scotthamilton</td>\n",
       "      <td>is upset that he can't update his Facebook by ...</td>\n",
       "    </tr>\n",
       "    <tr>\n",
       "      <th>2</th>\n",
       "      <td>0</td>\n",
       "      <td>1467810917</td>\n",
       "      <td>Mon Apr 06 22:19:53 PDT 2009</td>\n",
       "      <td>NO_QUERY</td>\n",
       "      <td>mattycus</td>\n",
       "      <td>@Kenichan I dived many times for the ball. Man...</td>\n",
       "    </tr>\n",
       "    <tr>\n",
       "      <th>3</th>\n",
       "      <td>0</td>\n",
       "      <td>1467811184</td>\n",
       "      <td>Mon Apr 06 22:19:57 PDT 2009</td>\n",
       "      <td>NO_QUERY</td>\n",
       "      <td>ElleCTF</td>\n",
       "      <td>my whole body feels itchy and like its on fire</td>\n",
       "    </tr>\n",
       "    <tr>\n",
       "      <th>4</th>\n",
       "      <td>0</td>\n",
       "      <td>1467811193</td>\n",
       "      <td>Mon Apr 06 22:19:57 PDT 2009</td>\n",
       "      <td>NO_QUERY</td>\n",
       "      <td>Karoli</td>\n",
       "      <td>@nationwideclass no, it's not behaving at all....</td>\n",
       "    </tr>\n",
       "  </tbody>\n",
       "</table>\n",
       "</div>"
      ],
      "text/plain": [
       "   0           1                             2         3                4  \\\n",
       "0  0  1467810369  Mon Apr 06 22:19:45 PDT 2009  NO_QUERY  _TheSpecialOne_   \n",
       "1  0  1467810672  Mon Apr 06 22:19:49 PDT 2009  NO_QUERY    scotthamilton   \n",
       "2  0  1467810917  Mon Apr 06 22:19:53 PDT 2009  NO_QUERY         mattycus   \n",
       "3  0  1467811184  Mon Apr 06 22:19:57 PDT 2009  NO_QUERY          ElleCTF   \n",
       "4  0  1467811193  Mon Apr 06 22:19:57 PDT 2009  NO_QUERY           Karoli   \n",
       "\n",
       "                                                   5  \n",
       "0  @switchfoot http://twitpic.com/2y1zl - Awww, t...  \n",
       "1  is upset that he can't update his Facebook by ...  \n",
       "2  @Kenichan I dived many times for the ball. Man...  \n",
       "3    my whole body feels itchy and like its on fire   \n",
       "4  @nationwideclass no, it's not behaving at all....  "
      ]
     },
     "execution_count": 6,
     "metadata": {},
     "output_type": "execute_result"
    }
   ],
   "source": [
    "# loading dataset\n",
    "df = pd.read_csv('../archive/training.1600000.processed.noemoticon.csv',\n",
    "                 encoding = 'latin',\n",
    "                 header = None)\n",
    "df.head()"
   ]
  },
  {
   "cell_type": "markdown",
   "metadata": {},
   "source": [
    "The dataset has six fields. We'll keep the first and the last:\n",
    "<ul>\n",
    "    <li>the polarity of the tweet (0 = negative, 4 = positive)</li>\n",
    "    <li>the text of the tweet</li>\n",
    "</ul>"
   ]
  },
  {
   "cell_type": "code",
   "execution_count": 7,
   "metadata": {},
   "outputs": [
    {
     "data": {
      "text/html": [
       "<div>\n",
       "<style scoped>\n",
       "    .dataframe tbody tr th:only-of-type {\n",
       "        vertical-align: middle;\n",
       "    }\n",
       "\n",
       "    .dataframe tbody tr th {\n",
       "        vertical-align: top;\n",
       "    }\n",
       "\n",
       "    .dataframe thead th {\n",
       "        text-align: right;\n",
       "    }\n",
       "</style>\n",
       "<table border=\"1\" class=\"dataframe\">\n",
       "  <thead>\n",
       "    <tr style=\"text-align: right;\">\n",
       "      <th></th>\n",
       "      <th>sentiment</th>\n",
       "      <th>text</th>\n",
       "    </tr>\n",
       "  </thead>\n",
       "  <tbody>\n",
       "    <tr>\n",
       "      <th>0</th>\n",
       "      <td>0</td>\n",
       "      <td>@switchfoot http://twitpic.com/2y1zl - Awww, t...</td>\n",
       "    </tr>\n",
       "    <tr>\n",
       "      <th>1</th>\n",
       "      <td>0</td>\n",
       "      <td>is upset that he can't update his Facebook by ...</td>\n",
       "    </tr>\n",
       "    <tr>\n",
       "      <th>2</th>\n",
       "      <td>0</td>\n",
       "      <td>@Kenichan I dived many times for the ball. Man...</td>\n",
       "    </tr>\n",
       "    <tr>\n",
       "      <th>3</th>\n",
       "      <td>0</td>\n",
       "      <td>my whole body feels itchy and like its on fire</td>\n",
       "    </tr>\n",
       "    <tr>\n",
       "      <th>4</th>\n",
       "      <td>0</td>\n",
       "      <td>@nationwideclass no, it's not behaving at all....</td>\n",
       "    </tr>\n",
       "  </tbody>\n",
       "</table>\n",
       "</div>"
      ],
      "text/plain": [
       "   sentiment                                               text\n",
       "0          0  @switchfoot http://twitpic.com/2y1zl - Awww, t...\n",
       "1          0  is upset that he can't update his Facebook by ...\n",
       "2          0  @Kenichan I dived many times for the ball. Man...\n",
       "3          0    my whole body feels itchy and like its on fire \n",
       "4          0  @nationwideclass no, it's not behaving at all...."
      ]
     },
     "execution_count": 7,
     "metadata": {},
     "output_type": "execute_result"
    }
   ],
   "source": [
    "# dropping the other columns\n",
    "df = df.drop([1, 2, 3, 4], axis = 1)\n",
    "\n",
    "# renaming the dataset's columns\n",
    "df.columns = ['sentiment', 'text']\n",
    "df.head()"
   ]
  },
  {
   "cell_type": "code",
   "execution_count": 8,
   "metadata": {},
   "outputs": [
    {
     "data": {
      "text/html": [
       "<div>\n",
       "<style scoped>\n",
       "    .dataframe tbody tr th:only-of-type {\n",
       "        vertical-align: middle;\n",
       "    }\n",
       "\n",
       "    .dataframe tbody tr th {\n",
       "        vertical-align: top;\n",
       "    }\n",
       "\n",
       "    .dataframe thead th {\n",
       "        text-align: right;\n",
       "    }\n",
       "</style>\n",
       "<table border=\"1\" class=\"dataframe\">\n",
       "  <thead>\n",
       "    <tr style=\"text-align: right;\">\n",
       "      <th></th>\n",
       "      <th>sentiment</th>\n",
       "      <th>text</th>\n",
       "    </tr>\n",
       "  </thead>\n",
       "  <tbody>\n",
       "    <tr>\n",
       "      <th>1599995</th>\n",
       "      <td>4</td>\n",
       "      <td>Just woke up. Having no school is the best fee...</td>\n",
       "    </tr>\n",
       "    <tr>\n",
       "      <th>1599996</th>\n",
       "      <td>4</td>\n",
       "      <td>TheWDB.com - Very cool to hear old Walt interv...</td>\n",
       "    </tr>\n",
       "    <tr>\n",
       "      <th>1599997</th>\n",
       "      <td>4</td>\n",
       "      <td>Are you ready for your MoJo Makeover? Ask me f...</td>\n",
       "    </tr>\n",
       "    <tr>\n",
       "      <th>1599998</th>\n",
       "      <td>4</td>\n",
       "      <td>Happy 38th Birthday to my boo of alll time!!! ...</td>\n",
       "    </tr>\n",
       "    <tr>\n",
       "      <th>1599999</th>\n",
       "      <td>4</td>\n",
       "      <td>happy #charitytuesday @theNSPCC @SparksCharity...</td>\n",
       "    </tr>\n",
       "  </tbody>\n",
       "</table>\n",
       "</div>"
      ],
      "text/plain": [
       "         sentiment                                               text\n",
       "1599995          4  Just woke up. Having no school is the best fee...\n",
       "1599996          4  TheWDB.com - Very cool to hear old Walt interv...\n",
       "1599997          4  Are you ready for your MoJo Makeover? Ask me f...\n",
       "1599998          4  Happy 38th Birthday to my boo of alll time!!! ...\n",
       "1599999          4  happy #charitytuesday @theNSPCC @SparksCharity..."
      ]
     },
     "execution_count": 8,
     "metadata": {},
     "output_type": "execute_result"
    }
   ],
   "source": [
    "df.tail()"
   ]
  },
  {
   "cell_type": "markdown",
   "metadata": {},
   "source": [
    "Now, we rename the codes for the sentiments as 'Negative' and 'Positive'."
   ]
  },
  {
   "cell_type": "code",
   "execution_count": 9,
   "metadata": {},
   "outputs": [
    {
     "data": {
      "text/html": [
       "<div>\n",
       "<style scoped>\n",
       "    .dataframe tbody tr th:only-of-type {\n",
       "        vertical-align: middle;\n",
       "    }\n",
       "\n",
       "    .dataframe tbody tr th {\n",
       "        vertical-align: top;\n",
       "    }\n",
       "\n",
       "    .dataframe thead th {\n",
       "        text-align: right;\n",
       "    }\n",
       "</style>\n",
       "<table border=\"1\" class=\"dataframe\">\n",
       "  <thead>\n",
       "    <tr style=\"text-align: right;\">\n",
       "      <th></th>\n",
       "      <th>sentiment</th>\n",
       "      <th>text</th>\n",
       "    </tr>\n",
       "  </thead>\n",
       "  <tbody>\n",
       "    <tr>\n",
       "      <th>0</th>\n",
       "      <td>Negative</td>\n",
       "      <td>@switchfoot http://twitpic.com/2y1zl - Awww, t...</td>\n",
       "    </tr>\n",
       "    <tr>\n",
       "      <th>1</th>\n",
       "      <td>Negative</td>\n",
       "      <td>is upset that he can't update his Facebook by ...</td>\n",
       "    </tr>\n",
       "    <tr>\n",
       "      <th>2</th>\n",
       "      <td>Negative</td>\n",
       "      <td>@Kenichan I dived many times for the ball. Man...</td>\n",
       "    </tr>\n",
       "    <tr>\n",
       "      <th>3</th>\n",
       "      <td>Negative</td>\n",
       "      <td>my whole body feels itchy and like its on fire</td>\n",
       "    </tr>\n",
       "    <tr>\n",
       "      <th>4</th>\n",
       "      <td>Negative</td>\n",
       "      <td>@nationwideclass no, it's not behaving at all....</td>\n",
       "    </tr>\n",
       "  </tbody>\n",
       "</table>\n",
       "</div>"
      ],
      "text/plain": [
       "  sentiment                                               text\n",
       "0  Negative  @switchfoot http://twitpic.com/2y1zl - Awww, t...\n",
       "1  Negative  is upset that he can't update his Facebook by ...\n",
       "2  Negative  @Kenichan I dived many times for the ball. Man...\n",
       "3  Negative    my whole body feels itchy and like its on fire \n",
       "4  Negative  @nationwideclass no, it's not behaving at all...."
      ]
     },
     "execution_count": 9,
     "metadata": {},
     "output_type": "execute_result"
    }
   ],
   "source": [
    "# translating the codes to sentiments\n",
    "num_to_sentiment = {0:\"Negative\", 4:\"Positive\"}\n",
    "\n",
    "df.sentiment = df.sentiment.apply(lambda x: num_to_sentiment[x])\n",
    "df.head()"
   ]
  },
  {
   "cell_type": "code",
   "execution_count": 10,
   "metadata": {},
   "outputs": [
    {
     "data": {
      "text/html": [
       "<div>\n",
       "<style scoped>\n",
       "    .dataframe tbody tr th:only-of-type {\n",
       "        vertical-align: middle;\n",
       "    }\n",
       "\n",
       "    .dataframe tbody tr th {\n",
       "        vertical-align: top;\n",
       "    }\n",
       "\n",
       "    .dataframe thead th {\n",
       "        text-align: right;\n",
       "    }\n",
       "</style>\n",
       "<table border=\"1\" class=\"dataframe\">\n",
       "  <thead>\n",
       "    <tr style=\"text-align: right;\">\n",
       "      <th></th>\n",
       "      <th>sentiment</th>\n",
       "      <th>text</th>\n",
       "    </tr>\n",
       "  </thead>\n",
       "  <tbody>\n",
       "    <tr>\n",
       "      <th>1599995</th>\n",
       "      <td>Positive</td>\n",
       "      <td>Just woke up. Having no school is the best fee...</td>\n",
       "    </tr>\n",
       "    <tr>\n",
       "      <th>1599996</th>\n",
       "      <td>Positive</td>\n",
       "      <td>TheWDB.com - Very cool to hear old Walt interv...</td>\n",
       "    </tr>\n",
       "    <tr>\n",
       "      <th>1599997</th>\n",
       "      <td>Positive</td>\n",
       "      <td>Are you ready for your MoJo Makeover? Ask me f...</td>\n",
       "    </tr>\n",
       "    <tr>\n",
       "      <th>1599998</th>\n",
       "      <td>Positive</td>\n",
       "      <td>Happy 38th Birthday to my boo of alll time!!! ...</td>\n",
       "    </tr>\n",
       "    <tr>\n",
       "      <th>1599999</th>\n",
       "      <td>Positive</td>\n",
       "      <td>happy #charitytuesday @theNSPCC @SparksCharity...</td>\n",
       "    </tr>\n",
       "  </tbody>\n",
       "</table>\n",
       "</div>"
      ],
      "text/plain": [
       "        sentiment                                               text\n",
       "1599995  Positive  Just woke up. Having no school is the best fee...\n",
       "1599996  Positive  TheWDB.com - Very cool to hear old Walt interv...\n",
       "1599997  Positive  Are you ready for your MoJo Makeover? Ask me f...\n",
       "1599998  Positive  Happy 38th Birthday to my boo of alll time!!! ...\n",
       "1599999  Positive  happy #charitytuesday @theNSPCC @SparksCharity..."
      ]
     },
     "execution_count": 10,
     "metadata": {},
     "output_type": "execute_result"
    }
   ],
   "source": [
    "df.tail()"
   ]
  },
  {
   "cell_type": "markdown",
   "metadata": {},
   "source": [
    "Finally, we check the numbers of negative and positive tweets:"
   ]
  },
  {
   "cell_type": "code",
   "execution_count": 11,
   "metadata": {},
   "outputs": [
    {
     "data": {
      "text/plain": [
       "Negative    800000\n",
       "Positive    800000\n",
       "Name: sentiment, dtype: int64"
      ]
     },
     "execution_count": 11,
     "metadata": {},
     "output_type": "execute_result"
    }
   ],
   "source": [
    "# positive and negative tweets number is the same\n",
    "df.sentiment.value_counts()"
   ]
  },
  {
   "cell_type": "markdown",
   "metadata": {},
   "source": [
    "## Text Preprocessing\n",
    "\n",
    "As I anticipated, in this phase we'll try two different approaches. In one, we will remove the stopwords, in  the second one we won't. To do so, we build a <em>preprocess</em> function with a <em>remove</em> parameter, set  to <em>True</em> by default. We begin, downloading the stopwords, the stemmer for the English language and the regular expression we'll use to remove internet addresses."
   ]
  },
  {
   "cell_type": "code",
   "execution_count": 12,
   "metadata": {},
   "outputs": [],
   "source": [
    "# pre preprocessing\n",
    "stop_words = stopwords.words('english')\n",
    "stemmer = SnowballStemmer('english')\n",
    "text_cleaning_re = \"@\\S+|https?:\\S+|http?:\\S|[^A-Za-z0-9]+\""
   ]
  },
  {
   "cell_type": "code",
   "execution_count": 13,
   "metadata": {},
   "outputs": [],
   "source": [
    "# preprocess function\n",
    "def preprocess(text, stem=False, remove=True):\n",
    "  text = re.sub(text_cleaning_re, ' ', str(text).lower()).strip()\n",
    "  tokens = []\n",
    "  for token in text.split():\n",
    "    if remove:\n",
    "        if token not in stop_words:\n",
    "          if stem:\n",
    "            tokens.append(stemmer.stem(token))\n",
    "          else:\n",
    "            tokens.append(token)\n",
    "    else:\n",
    "        if stem:\n",
    "            tokens.append(stemmer.stem(token))\n",
    "        else:\n",
    "            tokens.append(token)\n",
    "  return \" \".join(tokens)"
   ]
  },
  {
   "cell_type": "markdown",
   "metadata": {},
   "source": [
    "# 1. No stopwords\n",
    "\n",
    "The next step is to fork our story and start <u>working on the dataset where we remove our stopwords</u>. First, we preprocess the texts."
   ]
  },
  {
   "cell_type": "code",
   "execution_count": 14,
   "metadata": {},
   "outputs": [],
   "source": [
    "df_remove_sw = df.copy()\n",
    "df_remove_sw.text = df.text.apply(lambda x: preprocess(x))"
   ]
  },
  {
   "cell_type": "markdown",
   "metadata": {},
   "source": [
    "## Train and Test Split\n",
    "\n",
    "In this part, we're gonna split the dataset in two parts: one for the training of the neural network, and the other one to check its accuracy. Usually we keep one fourth of our data for validation but, considering that we have 1,600,000 tweets, I decided to reduce the percentage of the validation data to five percent. It's common sense more than a rule. I set also the max length of the tokenized sentences and I decided to set this value at 30, which is probably high. But, for this analysis, I prefer to spend some time more than losing any information."
   ]
  },
  {
   "cell_type": "code",
   "execution_count": 15,
   "metadata": {},
   "outputs": [],
   "source": [
    "TEST_SIZE = 0.05\n",
    "MAX_SEQUENCE_LENGTH = 30"
   ]
  },
  {
   "cell_type": "markdown",
   "metadata": {},
   "source": [
    "Now we split the data using the appropriate <em>sklearn</em> function. We set <em>random_state</em> for reproducibility of results."
   ]
  },
  {
   "cell_type": "code",
   "execution_count": 16,
   "metadata": {},
   "outputs": [],
   "source": [
    "# splitting dataset in train and test sets for both our datasets\n",
    "train_data, test_data = train_test_split(df_remove_sw, \n",
    "                                        test_size = TEST_SIZE,\n",
    "                                        random_state = 169)"
   ]
  },
  {
   "cell_type": "code",
   "execution_count": 17,
   "metadata": {},
   "outputs": [
    {
     "name": "stdout",
     "output_type": "stream",
     "text": [
      "Train Data size without stopwords: 1520000\n",
      "Test Data size without stopwords 80000\n"
     ]
    }
   ],
   "source": [
    "# checking dimensions of our new datasets\n",
    "print(\"Train Data size without stopwords:\", len(train_data))\n",
    "print(\"Test Data size without stopwords\", len(test_data))"
   ]
  },
  {
   "cell_type": "markdown",
   "metadata": {},
   "source": [
    "## Tokenization\n",
    "\n",
    "We still didn't tokenize our text. To do so, we are gonna import the appropriate method from tensorflow. After that, we will apply it on our preprocessed texts, build our vocabulary and check its length."
   ]
  },
  {
   "cell_type": "code",
   "execution_count": 18,
   "metadata": {},
   "outputs": [
    {
     "name": "stdout",
     "output_type": "stream",
     "text": [
      "Vocabulary Size without stopwords: 324494\n"
     ]
    }
   ],
   "source": [
    "# importing the Tokenizer method\n",
    "from tensorflow.keras.preprocessing.text import Tokenizer\n",
    "\n",
    "tokenizer = Tokenizer()\n",
    "tokenizer.fit_on_texts(train_data.text)\n",
    "\n",
    "word_index = tokenizer.word_index\n",
    "vocab_size = len(tokenizer.word_index) + 1\n",
    "print(\"Vocabulary Size without stopwords:\", vocab_size)"
   ]
  },
  {
   "cell_type": "markdown",
   "metadata": {},
   "source": [
    "We have chosen a length of 30 words for tweet, but obviously we will often have less words. One of the many steps in preprocessing is called <em>padding</em>, and it consists in adding zeros for empty spaces, meaning:\n",
    "\n",
    "<em>MAX_SEQUENCE_LENGTH - len(text)</em>\n",
    "\n",
    "In some, rare, cases, this number could cut the tweet length, when we have more than 30 words.\n",
    "\n",
    "In order to do so, we import the <em>pad_sequences</em> method from <em>tensorflow</em> and apply on our datasets' texts."
   ]
  },
  {
   "cell_type": "code",
   "execution_count": 19,
   "metadata": {},
   "outputs": [
    {
     "name": "stdout",
     "output_type": "stream",
     "text": [
      "Training X without stopwords shape: (1520000, 30)\n",
      "Testing X without stopwords shape: (80000, 30)\n"
     ]
    }
   ],
   "source": [
    "# importing pad_sequences method\n",
    "from tensorflow.keras.preprocessing.sequence import pad_sequences\n",
    "\n",
    "x_train = pad_sequences(tokenizer.texts_to_sequences(train_data.text),\n",
    "                        maxlen = MAX_SEQUENCE_LENGTH)\n",
    "x_test = pad_sequences(tokenizer.texts_to_sequences(test_data.text),\n",
    "                       maxlen = MAX_SEQUENCE_LENGTH)\n",
    "\n",
    "print(\"Training X without stopwords shape:\", x_train.shape)\n",
    "print(\"Testing X without stopwords shape:\", x_test.shape)"
   ]
  },
  {
   "cell_type": "code",
   "execution_count": 20,
   "metadata": {},
   "outputs": [
    {
     "name": "stdout",
     "output_type": "stream",
     "text": [
      "y_train removing stopwords shape: (1520000, 1)\n",
      "y_test removing stopwords shape: (80000, 1)\n"
     ]
    }
   ],
   "source": [
    "# instantiating and fitting our LabelEncoder\n",
    "encoder = LabelEncoder()\n",
    "encoder.fit(train_data.sentiment.to_list())\n",
    "\n",
    "# transforming our encoder instances\n",
    "y_train = encoder.transform(train_data.sentiment.to_list())\n",
    "y_test = encoder.transform(test_data.sentiment.to_list())\n",
    "\n",
    "# reshaping them\n",
    "y_train = y_train.reshape(-1,1)\n",
    "y_test = y_test.reshape(-1,1)\n",
    "\n",
    "# showing their shapes\n",
    "print(\"y_train removing stopwords shape:\", y_train.shape)\n",
    "print(\"y_test removing stopwords shape:\", y_test.shape)"
   ]
  },
  {
   "cell_type": "markdown",
   "metadata": {},
   "source": [
    "## Word Embedding \n",
    "\n",
    "Word Embedding is a way to represent words as vectors in a multidimensional space. The sense of it is to somehow translate the words relationships into vectors (the vectors representing those words) relationships. This way, words with a similar meaning have a similar representation. There are different methods for word embedding and probably the two most famous of them are <em>Word2Vec</em> and <em>GloVe</em>. In our analysis, we are gonna use the second one."
   ]
  },
  {
   "cell_type": "code",
   "execution_count": null,
   "metadata": {},
   "outputs": [],
   "source": [
    "!wget http://nlp.stanford.edu/data/glove.6B.zip\n",
    "!unzip glove.6B.zip"
   ]
  },
  {
   "cell_type": "markdown",
   "metadata": {},
   "source": [
    "Among the parameters we're setting:\n",
    "<ul>\n",
    "    <li><em>EMBEDDING_DIM</em>: the dimensions for our embedding</li>\n",
    "    <li><em>LR</em>: learning rate, the speed the weights of our NN get changed</li>\n",
    "    <li><em>BATCH_SIZE</em>: the number of training examples in a single iteration</li>\n",
    "    <li><em>EPOCHS</em>: the times all training set is passed of our neural network</li>\n",
    "</ul>"
   ]
  },
  {
   "cell_type": "code",
   "execution_count": 21,
   "metadata": {},
   "outputs": [],
   "source": [
    "# setting parameters\n",
    "GLOVE_EMB = 'glove.6B.300d.txt'\n",
    "EMBEDDING_DIM = 300\n",
    "LR = 1e-3\n",
    "BATCH_SIZE = 256\n",
    "EPOCHS = 10\n",
    "MODEL_NAME = 'model_remove_sw.h5'"
   ]
  },
  {
   "cell_type": "code",
   "execution_count": 22,
   "metadata": {},
   "outputs": [
    {
     "name": "stdout",
     "output_type": "stream",
     "text": [
      "Found 400000 word vectors.\n"
     ]
    }
   ],
   "source": [
    "embeddings_index = {}\n",
    "f = open(GLOVE_EMB)\n",
    "\n",
    "for line in f:\n",
    "  values = line.split()\n",
    "  word = value = values[0]\n",
    "  coefs = np.asarray(values[1:], dtype='float32')\n",
    "  embeddings_index[word] = coefs\n",
    "f.close()\n",
    "\n",
    "print('Found %s word vectors.' %len(embeddings_index))"
   ]
  },
  {
   "cell_type": "code",
   "execution_count": 23,
   "metadata": {},
   "outputs": [],
   "source": [
    "embedding_matrix = np.zeros((vocab_size, EMBEDDING_DIM))\n",
    "for word, i in word_index.items():\n",
    "  embedding_vector = embeddings_index.get(word)\n",
    "  if embedding_vector is not None:\n",
    "    embedding_matrix[i] = embedding_vector"
   ]
  },
  {
   "cell_type": "code",
   "execution_count": 24,
   "metadata": {},
   "outputs": [],
   "source": [
    "# finalising the embedding\n",
    "embedding_layer = tf.keras.layers.Embedding(vocab_size,\n",
    "                                            EMBEDDING_DIM,\n",
    "                                            weights = [embedding_matrix],\n",
    "                                            input_length = MAX_SEQUENCE_LENGTH,\n",
    "                                            trainable = False)"
   ]
  },
  {
   "cell_type": "markdown",
   "metadata": {},
   "source": [
    " ## Building LSTM\n",
    "    \n",
    "Now it's finally time to build our neural network. First, from <em>tensorflow.keras</em> we import the methods we need:"
   ]
  },
  {
   "cell_type": "code",
   "execution_count": 25,
   "metadata": {},
   "outputs": [],
   "source": [
    "# importing methods\n",
    "from tensorflow.keras.layers import Conv1D, Bidirectional, LSTM, Dense, Input, Dropout\n",
    "from tensorflow.keras.layers import SpatialDropout1D"
   ]
  },
  {
   "cell_type": "markdown",
   "metadata": {},
   "source": [
    "Second, we perform the word embedding. Then we apply a Dropout to help regularization, but dropping entire 1D feature maps instead of individual elements. Then we apply a convolutional layer with ReLU activation. After it, we add a Bidirectional LSTM, to get information from past and future at the same time, again using both regular dropout and recurrent dropout for recurrent units, both at 20%. Then we add a Dense layer, again with ReLU activation. Then we add a Dropout level, this time at 50%. Then we repeat a Dense layer like before and end with an output layer sith Sigmoid activation."
   ]
  },
  {
   "cell_type": "code",
   "execution_count": 26,
   "metadata": {},
   "outputs": [],
   "source": [
    "# building our model function\n",
    "def build_LSTM(max_sequence_length):\n",
    "    sequence_input = Input(shape=(max_sequence_length,), dtype='int32')\n",
    "    embedding_sequences = embedding_layer(sequence_input)\n",
    "    x = SpatialDropout1D(0.2)(embedding_sequences)\n",
    "    x = Conv1D(64, 5, activation='relu')(x)\n",
    "    x = Bidirectional(LSTM(64, dropout=0.2, recurrent_dropout=0.2))(x)\n",
    "    x = Dense(512, activation='relu')(x)\n",
    "    x = Dropout(0.5)(x)\n",
    "    x = Dense(512, activation='relu')(x)\n",
    "    outputs = Dense(1, activation='sigmoid')(x)\n",
    "    model = tf.keras.Model(sequence_input, outputs)\n",
    "    return model\n",
    "\n",
    "# actually building the model\n",
    "model = build_LSTM(MAX_SEQUENCE_LENGTH)"
   ]
  },
  {
   "cell_type": "markdown",
   "metadata": {},
   "source": [
    "Next, we import the <em>Adam</em> optimization algorithm and we compile our model, using the <em>binary crossentropy</em> loss function."
   ]
  },
  {
   "cell_type": "code",
   "execution_count": 27,
   "metadata": {},
   "outputs": [],
   "source": [
    "# importing Adam method\n",
    "from tensorflow.keras.optimizers import Adam\n",
    "\n",
    "model.compile(optimizer = Adam(learning_rate = LR), \n",
    "              loss = 'binary_crossentropy',\n",
    "              metrics = ['accuracy'])"
   ]
  },
  {
   "cell_type": "markdown",
   "metadata": {},
   "source": [
    "It's finally time to train the neural network on our first dataset, the one without stopwords. Let's go!"
   ]
  },
  {
   "cell_type": "code",
   "execution_count": 28,
   "metadata": {},
   "outputs": [
    {
     "name": "stdout",
     "output_type": "stream",
     "text": [
      "Epoch 1/10\n",
      "5938/5938 [==============================] - 1195s 201ms/step - loss: 0.5076 - accuracy: 0.7479 - val_loss: 0.4749 - val_accuracy: 0.7714\n",
      "Epoch 2/10\n",
      "5938/5938 [==============================] - 1002s 169ms/step - loss: 0.4799 - accuracy: 0.7671 - val_loss: 0.4647 - val_accuracy: 0.7770\n",
      "Epoch 3/10\n",
      "5938/5938 [==============================] - 1063s 179ms/step - loss: 0.4706 - accuracy: 0.7732 - val_loss: 0.4605 - val_accuracy: 0.7794\n",
      "Epoch 4/10\n",
      "5938/5938 [==============================] - 1052s 177ms/step - loss: 0.4653 - accuracy: 0.7772 - val_loss: 0.4595 - val_accuracy: 0.7803\n",
      "Epoch 5/10\n",
      "5938/5938 [==============================] - 958s 161ms/step - loss: 0.4617 - accuracy: 0.7788 - val_loss: 0.4569 - val_accuracy: 0.7825\n",
      "Epoch 6/10\n",
      "5938/5938 [==============================] - 1078s 182ms/step - loss: 0.4590 - accuracy: 0.7807 - val_loss: 0.4585 - val_accuracy: 0.7829\n",
      "Epoch 7/10\n",
      "5938/5938 [==============================] - 1114s 188ms/step - loss: 0.4570 - accuracy: 0.7821 - val_loss: 0.4562 - val_accuracy: 0.7834\n",
      "Epoch 8/10\n",
      "5938/5938 [==============================] - 1130s 190ms/step - loss: 0.4559 - accuracy: 0.7829 - val_loss: 0.4570 - val_accuracy: 0.7842\n",
      "Epoch 9/10\n",
      "5938/5938 [==============================] - 1349s 227ms/step - loss: 0.4541 - accuracy: 0.7831 - val_loss: 0.4555 - val_accuracy: 0.7833\n",
      "Epoch 10/10\n",
      "5938/5938 [==============================] - 1313s 221ms/step - loss: 0.4530 - accuracy: 0.7842 - val_loss: 0.4539 - val_accuracy: 0.7834\n"
     ]
    }
   ],
   "source": [
    "history = model.fit(x_train, \n",
    "                    y_train, \n",
    "                    batch_size = BATCH_SIZE, \n",
    "                    epochs = EPOCHS,\n",
    "                    validation_data = (x_test, y_test))"
   ]
  },
  {
   "cell_type": "markdown",
   "metadata": {},
   "source": [
    "## Model Evaluation\n",
    "\n",
    "It's now time to check our first model. We show its accuracy to get a visual confirmation that it is over 78%. We must remember that this kind of classification can produce many mistakes even when performed by humans. "
   ]
  },
  {
   "cell_type": "code",
   "execution_count": 29,
   "metadata": {},
   "outputs": [
    {
     "data": {
      "text/plain": [
       "<matplotlib.legend.Legend at 0x7fec47873d10>"
      ]
     },
     "execution_count": 29,
     "metadata": {},
     "output_type": "execute_result"
    },
    {
     "data": {
      "image/png": "[encoded data removed]",
      "text/plain": [
       "<Figure size 432x288 with 2 Axes>"
      ]
     },
     "metadata": {
      "needs_background": "light"
     },
     "output_type": "display_data"
    }
   ],
   "source": [
    "s, (at, al) = plt.subplots(2,1)\n",
    "\n",
    "at.plot(history.history['accuracy'], c= 'b')\n",
    "at.plot(history.history['val_accuracy'], c='r')\n",
    "at.set_title('model accuracy')\n",
    "at.set_ylabel('accuracy')\n",
    "at.set_xlabel('epoch')\n",
    "at.legend(['LSTM_train', 'LSTM_val'], loc='upper left')\n",
    "\n",
    "al.plot(history.history['loss'], c='m')\n",
    "al.plot(history.history['val_loss'], c='c')\n",
    "al.set_title('model loss')\n",
    "al.set_ylabel('loss')\n",
    "al.set_xlabel('epoch')\n",
    "al.legend(['train', 'val'], loc = 'upper left')"
   ]
  },
  {
   "cell_type": "markdown",
   "metadata": {},
   "source": [
    "The prediction score outputted by the model is between 0 and 1. We define a threshold value of 0.5 and decide that, if the score is above this value, the sentiment is \"Positive\", and \"Negative\" otherwise."
   ]
  },
  {
   "cell_type": "code",
   "execution_count": 30,
   "metadata": {},
   "outputs": [
    {
     "name": "stdout",
     "output_type": "stream",
     "text": [
      "8/8 [==============================] - 11s 1s/step\n"
     ]
    }
   ],
   "source": [
    "def decode_sentiment(score):\n",
    "    if (score>0.5):\n",
    "        return \"Positive\"\n",
    "    else:\n",
    "        return \"Negative\"\n",
    "\n",
    "scores = model.predict(x_test, \n",
    "                       verbose = 1, \n",
    "                       batch_size = 10000)\n",
    "y_pred_1d = [decode_sentiment(score) for score in scores]"
   ]
  },
  {
   "cell_type": "markdown",
   "metadata": {},
   "source": [
    "### Confusion Matrix"
   ]
  },
  {
   "cell_type": "code",
   "execution_count": 31,
   "metadata": {},
   "outputs": [],
   "source": [
    "# importing itertools library and methods\n",
    "import itertools\n",
    "from sklearn.metrics import confusion_matrix, classification_report, accuracy_score"
   ]
  },
  {
   "cell_type": "code",
   "execution_count": 32,
   "metadata": {},
   "outputs": [],
   "source": [
    "# define a function that plots the confusion matrix\n",
    "def plot_confusion_matrix(cm, \n",
    "                          classes,\n",
    "                          title = 'Confusion matrix',\n",
    "                          cmap = plt.cm.Blues):\n",
    "    \"\"\"\n",
    "    This function prints and plots the confusion matrix.\n",
    "    Normalization can be applied by setting `normalize=True`.\n",
    "    \"\"\"\n",
    "\n",
    "    cm = cm.astype('float') / cm.sum(axis=1)[:, np.newaxis]\n",
    "\n",
    "    plt.imshow(cm, interpolation='nearest', cmap=cmap)\n",
    "    plt.title(title, fontsize=20)\n",
    "    plt.colorbar()\n",
    "    tick_marks = np.arange(len(classes))\n",
    "    plt.xticks(tick_marks, classes, fontsize=13)\n",
    "    plt.yticks(tick_marks, classes, fontsize=13)\n",
    "\n",
    "    fmt = '.2f'\n",
    "    thresh = cm.max() / 2.\n",
    "    for i, j in itertools.product(range(cm.shape[0]), range(cm.shape[1])):\n",
    "        plt.text(j, i, format(cm[i, j], fmt),\n",
    "                 horizontalalignment=\"center\",\n",
    "                 color=\"white\" if cm[i, j] > thresh else \"black\")\n",
    "\n",
    "    plt.ylabel('True label', fontsize=17)\n",
    "    plt.xlabel('Predicted label', fontsize=17)"
   ]
  },
  {
   "cell_type": "code",
   "execution_count": 33,
   "metadata": {},
   "outputs": [
    {
     "data": {
      "image/png": "[encoded data removed]",
      "text/plain": [
       "<Figure size 576x576 with 2 Axes>"
      ]
     },
     "metadata": {
      "needs_background": "light"
     },
     "output_type": "display_data"
    }
   ],
   "source": [
    "# we can take a look now\n",
    "cnf_matrix = confusion_matrix(test_data.sentiment.to_list(), y_pred_1d)\n",
    "plt.figure(figsize=(8,8))\n",
    "plot_confusion_matrix(cnf_matrix, classes=test_data.sentiment.unique(), title=\"Confusion matrix (no stopwords)\")\n",
    "plt.show();"
   ]
  },
  {
   "cell_type": "markdown",
   "metadata": {},
   "source": [
    "We end this part by saving the model:"
   ]
  },
  {
   "cell_type": "code",
   "execution_count": 34,
   "metadata": {},
   "outputs": [],
   "source": [
    "# saving the model\n",
    "model.save_weights(MODEL_NAME)"
   ]
  },
  {
   "cell_type": "markdown",
   "metadata": {},
   "source": [
    "# 2. With stopwords\n",
    "\n",
    "Now we'll repeat what done until now, but setting the remove parameter for the function <em>preprocess</em> to False. This way we won't remove the stopwords from our texts. After this everything is gonna be the same, so you can move to the end of this section, where we'll check the results, and draw some conclusions."
   ]
  },
  {
   "cell_type": "code",
   "execution_count": 35,
   "metadata": {},
   "outputs": [],
   "source": [
    "df_keep_sw = df.copy()\n",
    "df_keep_sw.text = df.text.apply(lambda x: preprocess(x, remove=False))"
   ]
  },
  {
   "cell_type": "markdown",
   "metadata": {},
   "source": [
    "## Train and Test Split"
   ]
  },
  {
   "cell_type": "code",
   "execution_count": 36,
   "metadata": {},
   "outputs": [],
   "source": [
    "# splitting dataset in train and test sets for both our datasets\n",
    "train_data, test_data = train_test_split(df_keep_sw, \n",
    "                                        test_size = TEST_SIZE,\n",
    "                                        random_state = 169)"
   ]
  },
  {
   "cell_type": "code",
   "execution_count": 37,
   "metadata": {},
   "outputs": [
    {
     "name": "stdout",
     "output_type": "stream",
     "text": [
      "Train Data size with stopwords: 1520000\n",
      "Test Data size with stopwords 80000\n"
     ]
    }
   ],
   "source": [
    "# checking dimensions of our new datasets\n",
    "print(\"Train Data size with stopwords:\", len(train_data))\n",
    "print(\"Test Data size with stopwords\", len(test_data))"
   ]
  },
  {
   "cell_type": "markdown",
   "metadata": {},
   "source": [
    "## Tokenization"
   ]
  },
  {
   "cell_type": "code",
   "execution_count": 38,
   "metadata": {},
   "outputs": [
    {
     "name": "stdout",
     "output_type": "stream",
     "text": [
      "Vocabulary Size with stopwords: 324647\n"
     ]
    }
   ],
   "source": [
    "tokenizer = Tokenizer()\n",
    "tokenizer.fit_on_texts(train_data.text)\n",
    "\n",
    "word_index = tokenizer.word_index\n",
    "vocab_size = len(tokenizer.word_index) + 1\n",
    "print(\"Vocabulary Size with stopwords:\", vocab_size)"
   ]
  },
  {
   "cell_type": "markdown",
   "metadata": {},
   "source": [
    "We may see that, now, we have around 150 words more in our vocabulary, clearly the stopwords."
   ]
  },
  {
   "cell_type": "code",
   "execution_count": 39,
   "metadata": {},
   "outputs": [
    {
     "name": "stdout",
     "output_type": "stream",
     "text": [
      "Training X with stopwords shape: (1520000, 30)\n",
      "Testing X with stopwords shape: (80000, 30)\n"
     ]
    }
   ],
   "source": [
    "x_train = pad_sequences(tokenizer.texts_to_sequences(train_data.text),\n",
    "                        maxlen = MAX_SEQUENCE_LENGTH)\n",
    "x_test = pad_sequences(tokenizer.texts_to_sequences(test_data.text),\n",
    "                       maxlen = MAX_SEQUENCE_LENGTH)\n",
    "\n",
    "print(\"Training X with stopwords shape:\", x_train.shape)\n",
    "print(\"Testing X with stopwords shape:\", x_test.shape)"
   ]
  },
  {
   "cell_type": "code",
   "execution_count": 40,
   "metadata": {},
   "outputs": [
    {
     "name": "stdout",
     "output_type": "stream",
     "text": [
      "y_train keeping stopwords shape: (1520000, 1)\n",
      "y_test keeping stopwords shape: (80000, 1)\n"
     ]
    }
   ],
   "source": [
    "# instantiating and fitting our LabelEncoder\n",
    "encoder = LabelEncoder()\n",
    "encoder.fit(train_data.sentiment.to_list())\n",
    "\n",
    "# transforming our encoder instances\n",
    "y_train = encoder.transform(train_data.sentiment.to_list())\n",
    "y_test = encoder.transform(test_data.sentiment.to_list())\n",
    "\n",
    "# reshaping them\n",
    "y_train = y_train.reshape(-1,1)\n",
    "y_test = y_test.reshape(-1,1)\n",
    "\n",
    "# showing their shapes\n",
    "print(\"y_train keeping stopwords shape:\", y_train.shape)\n",
    "print(\"y_test keeping stopwords shape:\", y_test.shape)"
   ]
  },
  {
   "cell_type": "markdown",
   "metadata": {},
   "source": [
    "## Word Embedding"
   ]
  },
  {
   "cell_type": "code",
   "execution_count": 41,
   "metadata": {},
   "outputs": [],
   "source": [
    "MODEL_NAME = 'model_keep_sw.h5'"
   ]
  },
  {
   "cell_type": "code",
   "execution_count": 42,
   "metadata": {},
   "outputs": [
    {
     "name": "stdout",
     "output_type": "stream",
     "text": [
      "Found 400000 word vectors.\n"
     ]
    }
   ],
   "source": [
    "embeddings_index = {}\n",
    "f = open(GLOVE_EMB)\n",
    "\n",
    "for line in f:\n",
    "  values = line.split()\n",
    "  word = value = values[0]\n",
    "  coefs = np.asarray(values[1:], dtype='float32')\n",
    "  embeddings_index[word] = coefs\n",
    "f.close()\n",
    "\n",
    "print('Found %s word vectors.' %len(embeddings_index))"
   ]
  },
  {
   "cell_type": "code",
   "execution_count": 43,
   "metadata": {},
   "outputs": [],
   "source": [
    "embedding_matrix = np.zeros((vocab_size, EMBEDDING_DIM))\n",
    "for word, i in word_index.items():\n",
    "  embedding_vector = embeddings_index.get(word)\n",
    "  if embedding_vector is not None:\n",
    "    embedding_matrix[i] = embedding_vector"
   ]
  },
  {
   "cell_type": "code",
   "execution_count": 44,
   "metadata": {},
   "outputs": [],
   "source": [
    "# finalising the embedding\n",
    "embedding_layer = tf.keras.layers.Embedding(vocab_size,\n",
    "                                            EMBEDDING_DIM,\n",
    "                                            weights = [embedding_matrix],\n",
    "                                            input_length = MAX_SEQUENCE_LENGTH,\n",
    "                                            trainable = False)"
   ]
  },
  {
   "cell_type": "markdown",
   "metadata": {},
   "source": [
    "## LSTM"
   ]
  },
  {
   "cell_type": "code",
   "execution_count": 45,
   "metadata": {},
   "outputs": [],
   "source": [
    "# rebuilding our model, exactly the same\n",
    "model = build_LSTM(MAX_SEQUENCE_LENGTH)"
   ]
  },
  {
   "cell_type": "code",
   "execution_count": 46,
   "metadata": {},
   "outputs": [],
   "source": [
    "model.compile(optimizer = Adam(learning_rate = LR), \n",
    "              loss='binary_crossentropy',\n",
    "              metrics=['accuracy'])"
   ]
  },
  {
   "cell_type": "code",
   "execution_count": 47,
   "metadata": {},
   "outputs": [
    {
     "name": "stdout",
     "output_type": "stream",
     "text": [
      "Epoch 1/10\n",
      "5938/5938 [==============================] - 1401s 236ms/step - loss: 0.4621 - accuracy: 0.7806 - val_loss: 0.4336 - val_accuracy: 0.7978\n",
      "Epoch 2/10\n",
      "5938/5938 [==============================] - 1275s 215ms/step - loss: 0.4257 - accuracy: 0.8030 - val_loss: 0.4076 - val_accuracy: 0.8110\n",
      "Epoch 3/10\n",
      "5938/5938 [==============================] - 983s 166ms/step - loss: 0.4141 - accuracy: 0.8097 - val_loss: 0.4000 - val_accuracy: 0.8176\n",
      "Epoch 4/10\n",
      "5938/5938 [==============================] - 1021s 172ms/step - loss: 0.4079 - accuracy: 0.8130 - val_loss: 0.3977 - val_accuracy: 0.8195\n",
      "Epoch 5/10\n",
      "5938/5938 [==============================] - 947s 160ms/step - loss: 0.4033 - accuracy: 0.8157 - val_loss: 0.3914 - val_accuracy: 0.8219\n",
      "Epoch 6/10\n",
      "5938/5938 [==============================] - 1357s 229ms/step - loss: 0.4002 - accuracy: 0.8177 - val_loss: 0.3928 - val_accuracy: 0.8223\n",
      "Epoch 7/10\n",
      "5938/5938 [==============================] - 1069s 180ms/step - loss: 0.3978 - accuracy: 0.8188 - val_loss: 0.3894 - val_accuracy: 0.8230\n",
      "Epoch 8/10\n",
      "5938/5938 [==============================] - 1041s 175ms/step - loss: 0.3959 - accuracy: 0.8199 - val_loss: 0.3983 - val_accuracy: 0.8205\n",
      "Epoch 9/10\n",
      "5938/5938 [==============================] - 1262s 213ms/step - loss: 0.3943 - accuracy: 0.8207 - val_loss: 0.3887 - val_accuracy: 0.8246\n",
      "Epoch 10/10\n",
      "5938/5938 [==============================] - 1150s 194ms/step - loss: 0.3931 - accuracy: 0.8217 - val_loss: 0.3870 - val_accuracy: 0.8247\n"
     ]
    }
   ],
   "source": [
    "history = model.fit(x_train, \n",
    "                    y_train, \n",
    "                    batch_size = BATCH_SIZE, \n",
    "                    epochs = EPOCHS,\n",
    "                    validation_data = (x_test, y_test))"
   ]
  },
  {
   "cell_type": "markdown",
   "metadata": {},
   "source": [
    "## Model Evaluation"
   ]
  },
  {
   "cell_type": "code",
   "execution_count": 48,
   "metadata": {},
   "outputs": [
    {
     "data": {
      "text/plain": [
       "<matplotlib.legend.Legend at 0x7febb9fbb9d0>"
      ]
     },
     "execution_count": 48,
     "metadata": {},
     "output_type": "execute_result"
    },
    {
     "data": {
      "image/png": "[encoded data removed]",
      "text/plain": [
       "<Figure size 432x288 with 2 Axes>"
      ]
     },
     "metadata": {
      "needs_background": "light"
     },
     "output_type": "display_data"
    }
   ],
   "source": [
    "s, (at, al) = plt.subplots(2,1)\n",
    "\n",
    "at.plot(history.history['accuracy'], c= 'b')\n",
    "at.plot(history.history['val_accuracy'], c='r')\n",
    "at.set_title('model accuracy')\n",
    "at.set_ylabel('accuracy')\n",
    "at.set_xlabel('epoch')\n",
    "at.legend(['LSTM_train', 'LSTM_val'], loc='upper left')\n",
    "\n",
    "al.plot(history.history['loss'], c='m')\n",
    "al.plot(history.history['val_loss'], c='c')\n",
    "al.set_title('model loss')\n",
    "al.set_ylabel('loss')\n",
    "al.set_xlabel('epoch')\n",
    "al.legend(['train', 'val'], loc = 'upper left')"
   ]
  },
  {
   "cell_type": "markdown",
   "metadata": {},
   "source": [
    "We moved from an accuracy of more than 78%, using a dataset where we've removed the stopwords, to an accuracy of more than 82%, increasing the accuracy of our model of around 4%. This looks really promising, making a good use of a bunch of words that are considered <em>meaningless</em>. Let's produce the Confusion Matrix."
   ]
  },
  {
   "cell_type": "code",
   "execution_count": 49,
   "metadata": {},
   "outputs": [
    {
     "name": "stdout",
     "output_type": "stream",
     "text": [
      "8/8 [==============================] - 8s 1s/step\n"
     ]
    }
   ],
   "source": [
    "scores = model.predict(x_test, \n",
    "                       verbose = 1, \n",
    "                       batch_size = 10000)\n",
    "y_pred_1d = [decode_sentiment(score) for score in scores]"
   ]
  },
  {
   "cell_type": "markdown",
   "metadata": {},
   "source": [
    "### Confusion Matrix"
   ]
  },
  {
   "cell_type": "code",
   "execution_count": 50,
   "metadata": {
    "scrolled": true
   },
   "outputs": [
    {
     "data": {
      "image/png": "[encoded data removed]",
      "text/plain": [
       "<Figure size 576x576 with 2 Axes>"
      ]
     },
     "metadata": {
      "needs_background": "light"
     },
     "output_type": "display_data"
    }
   ],
   "source": [
    "# checking confusion matrix\n",
    "cnf_matrix = confusion_matrix(test_data.sentiment.to_list(), y_pred_1d)\n",
    "plt.figure(figsize=(8,8))\n",
    "plot_confusion_matrix(cnf_matrix, classes = test_data.sentiment.unique(), title=\"Confusion matrix (with stopwords)\")\n",
    "plt.show();"
   ]
  },
  {
   "cell_type": "markdown",
   "metadata": {},
   "source": [
    "The increase is there, even using the validation set! Let's finish this part by saving the model and then we'll try to conclude this analysis."
   ]
  },
  {
   "cell_type": "code",
   "execution_count": 51,
   "metadata": {},
   "outputs": [],
   "source": [
    "# saving the model\n",
    "model.save_weights(MODEL_NAME)"
   ]
  },
  {
   "cell_type": "markdown",
   "metadata": {},
   "source": [
    "## Conclusions\n",
    "\n",
    "In NLP, stopwords are everywhere defined as words that don't add meaning to the sentences we're analyzing. Everywhere is said that we may ignore them, without reducing the validity of our model. At this point, we don't know if the problem is with the stopwords set provided by the <em>Nltk</em> library, I personally believe that we could try different sets and maybe get better results, but still this is something we should be thinking about, while preprocessing our text in NLP. So my conclusion is: stopwords are <b>maybe</b> meaningless, but we should always take under serious consideration the idea of removing them from our text, because maybe they bring some meaning that we don't want to lose. "
   ]
  }
 ],
 "metadata": {
  "kernelspec": {
   "display_name": "Python 3",
   "language": "python",
   "name": "python3"
  },
  "language_info": {
   "codemirror_mode": {
    "name": "ipython",
    "version": 3
   },
   "file_extension": ".py",
   "mimetype": "text/x-python",
   "name": "python",
   "nbconvert_exporter": "python",
   "pygments_lexer": "ipython3",
   "version": "3.7.6"
  }
 },
 "nbformat": 4,
 "nbformat_minor": 4
}
